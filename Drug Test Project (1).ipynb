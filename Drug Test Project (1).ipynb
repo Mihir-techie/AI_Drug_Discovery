{
 "cells": [
  {
   "cell_type": "markdown",
   "id": "6759e37e-03cc-476d-8bc2-6c9d4de6d6d3",
   "metadata": {},
   "source": [
    "# Import the Libraries"
   ]
  },
  {
   "cell_type": "code",
   "execution_count": 2,
   "id": "82ff0f85-bfbc-4052-b2a0-dc9b5d1d36d4",
   "metadata": {},
   "outputs": [],
   "source": [
    "import numpy as np\n",
    "import pandas as pd\n",
    "from sklearn.model_selection import train_test_split\n",
    "from sklearn.preprocessing import StandardScaler\n",
    "from tensorflow.keras.models import Sequential\n",
    "from tensorflow.keras.layers import Dense, Dropout\n",
    "from tensorflow.keras.optimizers import Adam\n",
    "from sklearn.metrics import accuracy_score"
   ]
  },
  {
   "cell_type": "code",
   "execution_count": 19,
   "id": "784ac2ca-0519-4476-bea7-0f92acd41fc2",
   "metadata": {},
   "outputs": [],
   "source": [
    "# Simulated dataset \n",
    "np.random.seed(42)\n",
    "X = np.random.rand(1000, 10)  # 10 dummy molecular features\n",
    "y = np.random.randint(0, 2, 1000)  # Toxic (1) or Non-toxic (0)\n"
   ]
  },
  {
   "cell_type": "code",
   "execution_count": 20,
   "id": "91d704b5-9ac0-4f4b-8f0a-06bb8ed3761b",
   "metadata": {},
   "outputs": [],
   "source": [
    "# Feature scaling\n",
    "scaler = StandardScaler()\n",
    "X_scaled = scaler.fit_transform(X)\n"
   ]
  },
  {
   "cell_type": "markdown",
   "id": "8f4650fd-f1d0-4854-8e5f-73d4aca6d7c4",
   "metadata": {},
   "source": [
    "Normalize feature values so training is faster and better\n",
    "\n",
    "Split data into:\n",
    "\n",
    "X_train, y_train = model learns from this\n",
    "\n",
    "X_test, y_test = model is evaluated on this\n",
    "\n"
   ]
  },
  {
   "cell_type": "code",
   "execution_count": 5,
   "id": "4094a6df-bbd6-49df-bff4-79f1c4a5d9c1",
   "metadata": {},
   "outputs": [],
   "source": [
    "\n",
    "# Split into training and test sets\n",
    "X_train, X_test, y_train, y_test = train_test_split(X_scaled, y, test_size=0.2, random_state=42)\n"
   ]
  },
  {
   "cell_type": "code",
   "execution_count": 12,
   "id": "0813be65-f06c-4a8b-85c1-3e63481a2904",
   "metadata": {},
   "outputs": [],
   "source": [
    "# Define the deep learning model\n",
    "model = Sequential([\n",
    "    Dense(64, activation='relu', input_shape=(X_train.shape[1],)),\n",
    "    Dropout(0.3),\n",
    "    Dense(32, activation='relu'),\n",
    "    Dropout(0.2),\n",
    "    Dense(1, activation='sigmoid') #Binary Output\n",
    "    \n",
    "])"
   ]
  },
  {
   "cell_type": "code",
   "execution_count": 13,
   "id": "29bf6994-5f31-44cf-b6cb-6cef607d9885",
   "metadata": {},
   "outputs": [],
   "source": [
    "# Compile the model\n",
    "model.compile(optimizer=Adam(0.001), loss='binary_crossentropy', metrics=['accuracy'])\n"
   ]
  },
  {
   "cell_type": "markdown",
   "id": "2a994fbf-e133-4f99-8926-d25ee4374b0c",
   "metadata": {},
   "source": [
    "Optimizer: Adam — adjusts weights for better performance\n",
    "\n",
    "Loss: binary_crossentropy — for binary classification\n",
    "\n",
    "Validation Split: 10% of training set used to check model during training\n",
    "\n",
    "Epochs: Model runs 20 full passes over data\n",
    "\n",
    "Batch Size: Trains on 32 samples at a time\n",
    "\n"
   ]
  },
  {
   "cell_type": "code",
   "execution_count": 21,
   "id": "78050232-d9ca-4858-9cc4-493b28c6fc46",
   "metadata": {},
   "outputs": [
    {
     "name": "stdout",
     "output_type": "stream",
     "text": [
      "Epoch 1/20\n",
      "\u001b[1m23/23\u001b[0m \u001b[32m━━━━━━━━━━━━━━━━━━━━\u001b[0m\u001b[37m\u001b[0m \u001b[1m1s\u001b[0m 12ms/step - accuracy: 0.6069 - loss: 0.6615 - val_accuracy: 0.5250 - val_loss: 0.6866\n",
      "Epoch 2/20\n",
      "\u001b[1m23/23\u001b[0m \u001b[32m━━━━━━━━━━━━━━━━━━━━\u001b[0m\u001b[37m\u001b[0m \u001b[1m0s\u001b[0m 7ms/step - accuracy: 0.6122 - loss: 0.6577 - val_accuracy: 0.5125 - val_loss: 0.6831\n",
      "Epoch 3/20\n",
      "\u001b[1m23/23\u001b[0m \u001b[32m━━━━━━━━━━━━━━━━━━━━\u001b[0m\u001b[37m\u001b[0m \u001b[1m0s\u001b[0m 6ms/step - accuracy: 0.5836 - loss: 0.6638 - val_accuracy: 0.5375 - val_loss: 0.6805\n",
      "Epoch 4/20\n",
      "\u001b[1m23/23\u001b[0m \u001b[32m━━━━━━━━━━━━━━━━━━━━\u001b[0m\u001b[37m\u001b[0m \u001b[1m0s\u001b[0m 6ms/step - accuracy: 0.6162 - loss: 0.6557 - val_accuracy: 0.5000 - val_loss: 0.6811\n",
      "Epoch 5/20\n",
      "\u001b[1m23/23\u001b[0m \u001b[32m━━━━━━━━━━━━━━━━━━━━\u001b[0m\u001b[37m\u001b[0m \u001b[1m0s\u001b[0m 6ms/step - accuracy: 0.5912 - loss: 0.6795 - val_accuracy: 0.5375 - val_loss: 0.6811\n",
      "Epoch 6/20\n",
      "\u001b[1m23/23\u001b[0m \u001b[32m━━━━━━━━━━━━━━━━━━━━\u001b[0m\u001b[37m\u001b[0m \u001b[1m0s\u001b[0m 5ms/step - accuracy: 0.6431 - loss: 0.6461 - val_accuracy: 0.5250 - val_loss: 0.6828\n",
      "Epoch 7/20\n",
      "\u001b[1m23/23\u001b[0m \u001b[32m━━━━━━━━━━━━━━━━━━━━\u001b[0m\u001b[37m\u001b[0m \u001b[1m0s\u001b[0m 5ms/step - accuracy: 0.6301 - loss: 0.6468 - val_accuracy: 0.5250 - val_loss: 0.6853\n",
      "Epoch 8/20\n",
      "\u001b[1m23/23\u001b[0m \u001b[32m━━━━━━━━━━━━━━━━━━━━\u001b[0m\u001b[37m\u001b[0m \u001b[1m0s\u001b[0m 5ms/step - accuracy: 0.6035 - loss: 0.6534 - val_accuracy: 0.5250 - val_loss: 0.6839\n",
      "Epoch 9/20\n",
      "\u001b[1m23/23\u001b[0m \u001b[32m━━━━━━━━━━━━━━━━━━━━\u001b[0m\u001b[37m\u001b[0m \u001b[1m0s\u001b[0m 6ms/step - accuracy: 0.6266 - loss: 0.6474 - val_accuracy: 0.5000 - val_loss: 0.6901\n",
      "Epoch 10/20\n",
      "\u001b[1m23/23\u001b[0m \u001b[32m━━━━━━━━━━━━━━━━━━━━\u001b[0m\u001b[37m\u001b[0m \u001b[1m0s\u001b[0m 5ms/step - accuracy: 0.5870 - loss: 0.6519 - val_accuracy: 0.4750 - val_loss: 0.6913\n",
      "Epoch 11/20\n",
      "\u001b[1m23/23\u001b[0m \u001b[32m━━━━━━━━━━━━━━━━━━━━\u001b[0m\u001b[37m\u001b[0m \u001b[1m0s\u001b[0m 5ms/step - accuracy: 0.6246 - loss: 0.6425 - val_accuracy: 0.4750 - val_loss: 0.6915\n",
      "Epoch 12/20\n",
      "\u001b[1m23/23\u001b[0m \u001b[32m━━━━━━━━━━━━━━━━━━━━\u001b[0m\u001b[37m\u001b[0m \u001b[1m0s\u001b[0m 6ms/step - accuracy: 0.6349 - loss: 0.6577 - val_accuracy: 0.5000 - val_loss: 0.6897\n",
      "Epoch 13/20\n",
      "\u001b[1m23/23\u001b[0m \u001b[32m━━━━━━━━━━━━━━━━━━━━\u001b[0m\u001b[37m\u001b[0m \u001b[1m0s\u001b[0m 7ms/step - accuracy: 0.5965 - loss: 0.6519 - val_accuracy: 0.5125 - val_loss: 0.6939\n",
      "Epoch 14/20\n",
      "\u001b[1m23/23\u001b[0m \u001b[32m━━━━━━━━━━━━━━━━━━━━\u001b[0m\u001b[37m\u001b[0m \u001b[1m0s\u001b[0m 6ms/step - accuracy: 0.6288 - loss: 0.6366 - val_accuracy: 0.5125 - val_loss: 0.6978\n",
      "Epoch 15/20\n",
      "\u001b[1m23/23\u001b[0m \u001b[32m━━━━━━━━━━━━━━━━━━━━\u001b[0m\u001b[37m\u001b[0m \u001b[1m0s\u001b[0m 5ms/step - accuracy: 0.5980 - loss: 0.6433 - val_accuracy: 0.4875 - val_loss: 0.6996\n",
      "Epoch 16/20\n",
      "\u001b[1m23/23\u001b[0m \u001b[32m━━━━━━━━━━━━━━━━━━━━\u001b[0m\u001b[37m\u001b[0m \u001b[1m0s\u001b[0m 5ms/step - accuracy: 0.6443 - loss: 0.6272 - val_accuracy: 0.5000 - val_loss: 0.7031\n",
      "Epoch 17/20\n",
      "\u001b[1m23/23\u001b[0m \u001b[32m━━━━━━━━━━━━━━━━━━━━\u001b[0m\u001b[37m\u001b[0m \u001b[1m0s\u001b[0m 5ms/step - accuracy: 0.6268 - loss: 0.6460 - val_accuracy: 0.4875 - val_loss: 0.7033\n",
      "Epoch 18/20\n",
      "\u001b[1m23/23\u001b[0m \u001b[32m━━━━━━━━━━━━━━━━━━━━\u001b[0m\u001b[37m\u001b[0m \u001b[1m0s\u001b[0m 5ms/step - accuracy: 0.6629 - loss: 0.6286 - val_accuracy: 0.5000 - val_loss: 0.7048\n",
      "Epoch 19/20\n",
      "\u001b[1m23/23\u001b[0m \u001b[32m━━━━━━━━━━━━━━━━━━━━\u001b[0m\u001b[37m\u001b[0m \u001b[1m0s\u001b[0m 5ms/step - accuracy: 0.6063 - loss: 0.6546 - val_accuracy: 0.4625 - val_loss: 0.7092\n",
      "Epoch 20/20\n",
      "\u001b[1m23/23\u001b[0m \u001b[32m━━━━━━━━━━━━━━━━━━━━\u001b[0m\u001b[37m\u001b[0m \u001b[1m0s\u001b[0m 7ms/step - accuracy: 0.6242 - loss: 0.6418 - val_accuracy: 0.5000 - val_loss: 0.7036\n"
     ]
    },
    {
     "data": {
      "text/plain": [
       "<keras.src.callbacks.history.History at 0x158b92c3fa0>"
      ]
     },
     "execution_count": 21,
     "metadata": {},
     "output_type": "execute_result"
    }
   ],
   "source": [
    "# Train the model\n",
    "model.fit(X_train, y_train, validation_split=0.1, epochs=20, batch_size=32, verbose=1)\n"
   ]
  },
  {
   "cell_type": "code",
   "execution_count": 22,
   "id": "61c63fc3-8646-4bdc-b2f2-3be0deb4cf43",
   "metadata": {},
   "outputs": [
    {
     "name": "stdout",
     "output_type": "stream",
     "text": [
      "\u001b[1m7/7\u001b[0m \u001b[32m━━━━━━━━━━━━━━━━━━━━\u001b[0m\u001b[37m\u001b[0m \u001b[1m0s\u001b[0m 5ms/step \n",
      "Test Accuracy: 0.57\n"
     ]
    }
   ],
   "source": [
    "# Evaluate the model\n",
    "y_pred = (model.predict(X_test) > 0.5).astype(\"int32\")\n",
    "acc = accuracy_score(y_test, y_pred)\n",
    "print(\"Test Accuracy:\", acc)"
   ]
  },
  {
   "cell_type": "code",
   "execution_count": 23,
   "id": "18350994-f748-4aa2-b541-022267af254e",
   "metadata": {},
   "outputs": [],
   "source": [
    "# Custom prediction function\n",
    "def predict_toxicity(sample):\n",
    "    sample_scaled = scaler.transform([sample])\n",
    "    prediction = model.predict(sample_scaled)[0][0]\n",
    "    return \"Toxic\" if prediction > 0.5 else \"Non-toxic\"\n"
   ]
  },
  {
   "cell_type": "code",
   "execution_count": 24,
   "id": "79f277e8-a75d-4e92-a707-5c12eb0b8359",
   "metadata": {},
   "outputs": [
    {
     "name": "stdout",
     "output_type": "stream",
     "text": [
      "\u001b[1m1/1\u001b[0m \u001b[32m━━━━━━━━━━━━━━━━━━━━\u001b[0m\u001b[37m\u001b[0m \u001b[1m0s\u001b[0m 45ms/step\n",
      "Prediction: Toxic\n"
     ]
    }
   ],
   "source": [
    "# Test the prediction function\n",
    "example = np.random.rand(10)\n",
    "print(\"Prediction:\", predict_toxicity(example))\n",
    "\n"
   ]
  },
  {
   "cell_type": "code",
   "execution_count": null,
   "id": "38286c61-2333-4e20-be06-2f99d9c991a4",
   "metadata": {},
   "outputs": [],
   "source": [
    "Now as you can see the result this is Predict that it"
   ]
  }
 ],
 "metadata": {
  "kernelspec": {
   "display_name": "Python (AI Env)",
   "language": "python",
   "name": "ai_env"
  },
  "language_info": {
   "codemirror_mode": {
    "name": "ipython",
    "version": 3
   },
   "file_extension": ".py",
   "mimetype": "text/x-python",
   "name": "python",
   "nbconvert_exporter": "python",
   "pygments_lexer": "ipython3",
   "version": "3.10.18"
  }
 },
 "nbformat": 4,
 "nbformat_minor": 5
}
